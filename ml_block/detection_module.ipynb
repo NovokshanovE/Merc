{
 "cells": [
  {
   "cell_type": "code",
   "execution_count": 74,
   "metadata": {},
   "outputs": [],
   "source": [
    "from ultralytics import YOLO"
   ]
  },
  {
   "cell_type": "code",
   "execution_count": 75,
   "metadata": {},
   "outputs": [],
   "source": [
    "import cv2"
   ]
  },
  {
   "cell_type": "code",
   "execution_count": null,
   "metadata": {},
   "outputs": [],
   "source": []
  },
  {
   "cell_type": "code",
   "execution_count": 76,
   "metadata": {},
   "outputs": [],
   "source": [
    "image = cv2.imread(\"./documents/train/images/image_380.png\")"
   ]
  },
  {
   "cell_type": "code",
   "execution_count": 99,
   "metadata": {},
   "outputs": [],
   "source": [
    "doc_type_detect_model = YOLO(\"./runs/detect/train8/weights/best.pt\")\n",
    "series_number_detect_model = YOLO(\"./runs/detect/train10/weights/best.pt\")\n",
    "\n",
    "result_to_server={'confidence': None, 'doc_type': None}"
   ]
  },
  {
   "cell_type": "code",
   "execution_count": 78,
   "metadata": {},
   "outputs": [],
   "source": [
    "from utils import crop_image, get_grayscale, thresholding, result_postprocess"
   ]
  },
  {
   "cell_type": "code",
   "execution_count": 79,
   "metadata": {},
   "outputs": [
    {
     "name": "stderr",
     "output_type": "stream",
     "text": [
      "\n",
      "0: 640x480 1 pts, 8.0ms\n",
      "Speed: 3.0ms preprocess, 8.0ms inference, 2.0ms postprocess per image at shape (1, 3, 640, 480)\n"
     ]
    }
   ],
   "source": [
    "doc_type_pred = doc_type_detect_model.predict(source=image)"
   ]
  },
  {
   "cell_type": "code",
   "execution_count": 97,
   "metadata": {},
   "outputs": [],
   "source": [
    "confidence = doc_type_pred[0].boxes.conf[0].cpu().item()\n",
    "doc_type = doc_type_pred[0].names[int(doc_type_pred[0].boxes.cls[0].cpu().item())]\n",
    "\n",
    "result_to_server['confidence'] = confidence\n",
    "result_to_server['doc_type'] = doc_type"
   ]
  },
  {
   "cell_type": "code",
   "execution_count": 81,
   "metadata": {},
   "outputs": [],
   "source": [
    "xyxy_coordinates = doc_type_pred[0].boxes.xyxy[0].cpu().numpy().astype(int) \n",
    "x1, y1, x2, y2 = xyxy_coordinates  \n",
    "\n",
    "cropped_image = crop_image(image, x1, y1, x2, y2)"
   ]
  },
  {
   "cell_type": "code",
   "execution_count": 82,
   "metadata": {},
   "outputs": [
    {
     "name": "stderr",
     "output_type": "stream",
     "text": [
      "\n",
      "0: 640x480 1 number, 1 series, 9.0ms\n",
      "Speed: 3.0ms preprocess, 9.0ms inference, 2.0ms postprocess per image at shape (1, 3, 640, 480)\n"
     ]
    }
   ],
   "source": [
    "series_numbers_pred = series_number_detect_model.predict(source=cropped_image)"
   ]
  },
  {
   "cell_type": "code",
   "execution_count": 89,
   "metadata": {},
   "outputs": [],
   "source": [
    "xyxy_coordinates = series_numbers_pred[0].boxes.xyxy.cpu().numpy().astype(int) \n",
    "labels = [series_numbers_pred[0].names[item] for item in series_numbers_pred[0].boxes.cls.cpu().numpy()]"
   ]
  },
  {
   "cell_type": "code",
   "execution_count": 86,
   "metadata": {},
   "outputs": [],
   "source": [
    "import pytesseract\n",
    "pytesseract.pytesseract.tesseract_cmd = 'C:\\\\Program Files\\\\Tesseract-OCR\\\\tesseract.exe'"
   ]
  },
  {
   "cell_type": "code",
   "execution_count": 90,
   "metadata": {},
   "outputs": [],
   "source": [
    "i = 0\n",
    "\n",
    "ocr_dict = {'number': [], 'series': []}\n",
    "\n",
    "for item in xyxy_coordinates:\n",
    "    x1, y1, x2, y2 = item\n",
    "    cropped_image_tes = crop_image(cropped_image, x1, y1, x2, y2)\n",
    "\n",
    "    gray = get_grayscale(cropped_image_tes)\n",
    "    thresh = thresholding(gray)\n",
    "\n",
    "    ocr_result = pytesseract.image_to_string(cropped_image_tes, lang='rus', config='--psm 13 --oem 3')\n",
    "\n",
    "    final_res = result_postprocess(ocr_result)\n",
    "\n",
    "    if labels[i] == 'number':\n",
    "        ocr_dict['number'].append(final_res)\n",
    "    if labels[i] == 'series':\n",
    "        ocr_dict['series'].append(final_res)\n",
    "\n",
    "    i += 1\n"
   ]
  },
  {
   "cell_type": "code",
   "execution_count": 91,
   "metadata": {},
   "outputs": [
    {
     "data": {
      "text/plain": [
       "{'number': ['587970'], 'series': ['52НУ']}"
      ]
     },
     "execution_count": 91,
     "metadata": {},
     "output_type": "execute_result"
    }
   ],
   "source": [
    "ocr_dict"
   ]
  },
  {
   "cell_type": "code",
   "execution_count": 101,
   "metadata": {},
   "outputs": [],
   "source": [
    "result_to_server['series_numbers'] = ocr_dict"
   ]
  },
  {
   "cell_type": "code",
   "execution_count": 102,
   "metadata": {},
   "outputs": [
    {
     "data": {
      "text/plain": [
       "{'confidence': None,\n",
       " 'doc_type': None,\n",
       " 'series_numbers': {'number': ['587970'], 'series': ['52НУ']}}"
      ]
     },
     "execution_count": 102,
     "metadata": {},
     "output_type": "execute_result"
    }
   ],
   "source": [
    "result_to_server"
   ]
  }
 ],
 "metadata": {
  "kernelspec": {
   "display_name": "Python 3 (ipykernel)",
   "language": "python",
   "name": "python3"
  },
  "language_info": {
   "codemirror_mode": {
    "name": "ipython",
    "version": 3
   },
   "file_extension": ".py",
   "mimetype": "text/x-python",
   "name": "python",
   "nbconvert_exporter": "python",
   "pygments_lexer": "ipython3",
   "version": "3.11.5"
  }
 },
 "nbformat": 4,
 "nbformat_minor": 2
}
